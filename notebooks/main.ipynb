{
 "cells": [
  {
   "cell_type": "markdown",
   "id": "7c293076-dc47-4a63-9101-7e51d1cc71dd",
   "metadata": {},
   "source": [
    "### HI"
   ]
  },
  {
   "cell_type": "code",
   "execution_count": null,
   "id": "ab35ae53-3932-4239-aff0-b9805a03d4e1",
   "metadata": {},
   "outputs": [],
   "source": []
  }
 ],
 "metadata": {
  "kernelspec": {
   "display_name": "Python 3 (ipykernel)",
   "language": "python",
   "name": "python3"
  },
  "language_info": {
   "codemirror_mode": {
    "name": "ipython",
    "version": 3
   },
   "file_extension": ".py",
   "mimetype": "text/x-python",
   "name": "python",
   "nbconvert_exporter": "python",
   "pygments_lexer": "ipython3",
   "version": "3.11.6"
  }
 },
 "nbformat": 4,
 "nbformat_minor": 5
}
