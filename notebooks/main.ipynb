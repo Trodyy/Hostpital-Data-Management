{
 "cells": [
  {
   "cell_type": "code",
   "execution_count": 77,
   "id": "ff164b8d-8175-4420-bc68-97282d22f14d",
   "metadata": {},
   "outputs": [],
   "source": [
    "from pyspark.sql import SparkSession\n",
    "from pyspark.sql.functions import col , lit , broadcast , count"
   ]
  },
  {
   "cell_type": "markdown",
   "id": "fc71a073-713c-47cb-bcfa-99cf9e491150",
   "metadata": {},
   "source": [
    "# Build initial spark session"
   ]
  },
  {
   "cell_type": "code",
   "execution_count": 78,
   "id": "ab35ae53-3932-4239-aff0-b9805a03d4e1",
   "metadata": {},
   "outputs": [],
   "source": [
    "from pyspark.sql import SparkSession\n",
    "\n",
    "spark = (\n",
    "    SparkSession.builder\n",
    "    .appName(\"HospitalData\")\n",
    "    .config(\"spark.sql.adaptive.enabled\", \"false\")\n",
    "    .config(\"spark.sql.autoBroadcastJoinThreshold\", -1)\n",
    "    .config(\"spark.dynamicAllocation.enabled\", \"true\")\n",
    "    .config(\"spark.shuffle.service.enabled\", \"true\")\n",
    "    .config(\"spark.dynamicAllocation.minExecutors\", 2)\n",
    "    .config(\"spark.dynamicAllocation.initialExecutors\", 4)\n",
    "    .config(\"spark.dynamicAllocation.maxExecutors\", 10)\n",
    "    .getOrCreate()\n",
    ")\n"
   ]
  },
  {
   "cell_type": "code",
   "execution_count": 79,
   "id": "ec25df08-f0e7-4410-bfaf-b3e3a327d254",
   "metadata": {},
   "outputs": [
    {
     "data": {
      "text/html": [
       "\n",
       "            <div>\n",
       "                <p><b>SparkSession - in-memory</b></p>\n",
       "                \n",
       "        <div>\n",
       "            <p><b>SparkContext</b></p>\n",
       "\n",
       "            <p><a href=\"http://6d90e9ad5903:4040\">Spark UI</a></p>\n",
       "\n",
       "            <dl>\n",
       "              <dt>Version</dt>\n",
       "                <dd><code>v3.5.0</code></dd>\n",
       "              <dt>Master</dt>\n",
       "                <dd><code>local[5]</code></dd>\n",
       "              <dt>AppName</dt>\n",
       "                <dd><code>main_project</code></dd>\n",
       "            </dl>\n",
       "        </div>\n",
       "        \n",
       "            </div>\n",
       "        "
      ],
      "text/plain": [
       "<pyspark.sql.session.SparkSession at 0x7f59cc093f50>"
      ]
     },
     "execution_count": 79,
     "metadata": {},
     "output_type": "execute_result"
    }
   ],
   "source": [
    "spark"
   ]
  },
  {
   "cell_type": "markdown",
   "id": "47e7a39c-a814-4dfa-afcf-4d597216f181",
   "metadata": {},
   "source": [
    "# Read data"
   ]
  },
  {
   "cell_type": "code",
   "execution_count": 80,
   "id": "f07c5baf-6615-4ecf-b1bd-47dcddfb30f1",
   "metadata": {},
   "outputs": [],
   "source": [
    "patients = spark.read.format(\"csv\") \\\n",
    "    .option(\"header\" , \"true\") \\\n",
    "    .option(\"inferSchema\" , \"true\") \\\n",
    "    .load(\"/home/jovyan/csv_datas/patients.csv\")"
   ]
  },
  {
   "cell_type": "code",
   "execution_count": 81,
   "id": "027f27b7-853e-42fa-a15e-973a3cef679b",
   "metadata": {},
   "outputs": [],
   "source": [
    "billings = spark.read.format(\"csv\") \\\n",
    "    .option(\"header\" , \"true\") \\\n",
    "    .option(\"inferSchema\" , \"true\") \\\n",
    "    .load(\"/home/jovyan/csv_datas/billing.csv\")"
   ]
  },
  {
   "cell_type": "code",
   "execution_count": 82,
   "id": "9d0aa164-1390-4ace-aff3-a29928e39b5c",
   "metadata": {},
   "outputs": [],
   "source": [
    "appointments = spark.read.format(\"csv\") \\\n",
    "    .option(\"header\" , \"true\") \\\n",
    "    .option(\"inferSchema\" , \"true\") \\\n",
    "    .load(\"/home/jovyan/csv_datas/appointments.csv\")"
   ]
  },
  {
   "cell_type": "code",
   "execution_count": 83,
   "id": "713a518d-e091-4e11-9538-22030d093d0b",
   "metadata": {},
   "outputs": [],
   "source": [
    "doctors = spark.read.format(\"csv\") \\\n",
    "    .option(\"header\" , \"true\") \\\n",
    "    .option(\"inferSchema\" , \"true\") \\\n",
    "    .load(\"/home/jovyan/csv_datas/doctors.csv\")"
   ]
  },
  {
   "cell_type": "code",
   "execution_count": 84,
   "id": "81a0f69a-4b00-4948-88cb-247fd832ad9a",
   "metadata": {},
   "outputs": [],
   "source": [
    "treatments = spark.read.format(\"csv\") \\\n",
    "    .option(\"header\" , \"true\") \\\n",
    "    .option(\"inferSchema\" , \"true\") \\\n",
    "    .load(\"/home/jovyan/csv_datas/treatmentss.csv\")"
   ]
  },
  {
   "cell_type": "markdown",
   "id": "579da4b1-331e-4940-b3f2-7c6b70f89eaa",
   "metadata": {},
   "source": [
    "# Partioning files"
   ]
  },
  {
   "cell_type": "code",
   "execution_count": 85,
   "id": "c25e376e-43eb-4420-9e9c-b38c0436a6c5",
   "metadata": {},
   "outputs": [],
   "source": [
    "patients = patients.repartition(10)\n",
    "billings = billings.repartition(10)\n",
    "treatments = treatments.repartition(10)\n",
    "appointments = appointments.repartition(10)"
   ]
  },
  {
   "cell_type": "code",
   "execution_count": 86,
   "id": "cea555c4-b9cc-4aa8-8b38-e922b1edf1d2",
   "metadata": {},
   "outputs": [
    {
     "data": {
      "text/plain": [
       "10"
      ]
     },
     "execution_count": 86,
     "metadata": {},
     "output_type": "execute_result"
    }
   ],
   "source": [
    "patients.rdd.getNumPartitions()"
   ]
  },
  {
   "cell_type": "code",
   "execution_count": 87,
   "id": "75ab130a-85c3-4a2f-85c7-6d5513e36ab7",
   "metadata": {},
   "outputs": [
    {
     "data": {
      "text/plain": [
       "10"
      ]
     },
     "execution_count": 87,
     "metadata": {},
     "output_type": "execute_result"
    }
   ],
   "source": [
    "appointments.rdd.getNumPartitions()"
   ]
  },
  {
   "cell_type": "code",
   "execution_count": 88,
   "id": "7a07ee7b-7d58-4992-b173-9e4b7f4cd4b4",
   "metadata": {},
   "outputs": [
    {
     "data": {
      "text/plain": [
       "10"
      ]
     },
     "execution_count": 88,
     "metadata": {},
     "output_type": "execute_result"
    }
   ],
   "source": [
    "treatments.rdd.getNumPartitions()"
   ]
  },
  {
   "cell_type": "code",
   "execution_count": 89,
   "id": "8c3d721e-4897-4841-8c15-95ece664a2a7",
   "metadata": {},
   "outputs": [
    {
     "data": {
      "text/plain": [
       "10"
      ]
     },
     "execution_count": 89,
     "metadata": {},
     "output_type": "execute_result"
    }
   ],
   "source": [
    "billings.rdd.getNumPartitions()"
   ]
  },
  {
   "cell_type": "markdown",
   "id": "ea7f4096-d53d-4772-b33e-ce5fd899a19e",
   "metadata": {},
   "source": [
    "# Save them as parquet and also by partitioning"
   ]
  },
  {
   "cell_type": "code",
   "execution_count": 90,
   "id": "0580e9bd-2ade-4cb6-a36b-d8abe16e8ad4",
   "metadata": {},
   "outputs": [],
   "source": [
    "# patients.write.format('parquet') \\\n",
    "#     .mode(\"overwrite\") \\\n",
    "#     .option(\"path\" , \"/home/jovyan/partitioned-data/patients\") \\\n",
    "#     .partitionBy(\"insurance_provider\") \\\n",
    "#     .save()"
   ]
  },
  {
   "cell_type": "code",
   "execution_count": 91,
   "id": "76b6bbba-84b3-42a4-8c24-870467492216",
   "metadata": {},
   "outputs": [],
   "source": [
    "# billings.write.format('parquet') \\\n",
    "#     .mode(\"overwrite\") \\\n",
    "#     .option(\"path\" , \"/home/jovyan/partitioned-data/billings\") \\\n",
    "#     .partitionBy(\"payment_status\") \\\n",
    "#     .save()"
   ]
  },
  {
   "cell_type": "code",
   "execution_count": 92,
   "id": "f878a6f5-66a1-4441-800d-998bc036cd69",
   "metadata": {},
   "outputs": [],
   "source": [
    "# treatments.write.format('parquet') \\\n",
    "#     .mode(\"overwrite\") \\\n",
    "#     .option(\"path\" , \"/home/jovyan/partitioned-data/treatments\") \\\n",
    "#     .partitionBy(\"treatment_type\") \\\n",
    "#     .save()"
   ]
  },
  {
   "cell_type": "code",
   "execution_count": 93,
   "id": "7706e078-28be-47f1-8902-a5df4e10a4e8",
   "metadata": {},
   "outputs": [],
   "source": [
    "# appointments.write.format('parquet') \\\n",
    "#     .mode(\"overwrite\") \\\n",
    "#     .option(\"path\" , \"/home/jovyan/partitioned-data/appointments\") \\\n",
    "#     .partitionBy(\"reason_for_visit\") \\\n",
    "#     .save()"
   ]
  },
  {
   "cell_type": "markdown",
   "id": "dac50a4a-e489-4409-be32-9b704817e860",
   "metadata": {},
   "source": [
    "# Read partitioneddata"
   ]
  },
  {
   "cell_type": "code",
   "execution_count": 99,
   "id": "b4378309-8ec8-4689-99f0-0d2840b5ef3b",
   "metadata": {},
   "outputs": [],
   "source": [
    "patients = spark.read.format(\"parquet\") \\\n",
    "    .load(\"/home/jovyan/partitioned-data/patients\")"
   ]
  },
  {
   "cell_type": "code",
   "execution_count": 100,
   "id": "5694543e-733b-4bcb-8fcc-0700aae9fb55",
   "metadata": {},
   "outputs": [],
   "source": [
    "appointments = spark.read.format(\"parquet\") \\\n",
    "    .load(\"/home/jovyan/partitioned-data/appointments\")"
   ]
  },
  {
   "cell_type": "code",
   "execution_count": 101,
   "id": "8310ff2b-b596-4667-bb2b-67228e953799",
   "metadata": {},
   "outputs": [],
   "source": [
    "treatments = spark.read.format(\"parquet\") \\\n",
    "    .load(\"/home/jovyan/partitioned-data/treatments\")"
   ]
  },
  {
   "cell_type": "code",
   "execution_count": 102,
   "id": "061a1053-da86-47e2-9006-7100725f02f2",
   "metadata": {},
   "outputs": [],
   "source": [
    "billings = spark.read.format(\"parquet\") \\\n",
    "    .load(\"/home/jovyan/partitioned-data/billings\")"
   ]
  },
  {
   "cell_type": "markdown",
   "id": "b5466469-ad10-4183-a60e-4da6bb58bd22",
   "metadata": {},
   "source": [
    "# Join doctors to appointments by broadcast (Cause doctors is too small)"
   ]
  },
  {
   "cell_type": "code",
   "execution_count": 104,
   "id": "bb13b44b-8ad0-40c9-839d-36cc0378eacf",
   "metadata": {},
   "outputs": [],
   "source": [
    "appointments_doctros_join = appointments.join(broadcast(doctors) , appointments[\"doctor_id\"]==doctors[\"doctor_id\"] , 'left')"
   ]
  },
  {
   "cell_type": "code",
   "execution_count": 107,
   "id": "25494d39-02eb-4fb9-a67b-0942140896f6",
   "metadata": {},
   "outputs": [
    {
     "ename": "NameError",
     "evalue": "name 'count' is not defined",
     "output_type": "error",
     "traceback": [
      "\u001b[0;31m---------------------------------------------------------------------------\u001b[0m",
      "\u001b[0;31mNameError\u001b[0m                                 Traceback (most recent call last)",
      "Cell \u001b[0;32mIn[107], line 1\u001b[0m\n\u001b[0;32m----> 1\u001b[0m patients\u001b[38;5;241m.\u001b[39mgroupBy(\u001b[38;5;124m\"\u001b[39m\u001b[38;5;124mpatient_id\u001b[39m\u001b[38;5;124m\"\u001b[39m)\u001b[38;5;241m.\u001b[39magg(\u001b[43mcount\u001b[49m())\u001b[38;5;241m.\u001b[39mshow()\n",
      "\u001b[0;31mNameError\u001b[0m: name 'count' is not defined"
     ]
    }
   ],
   "source": [
    "patients.groupBy(\"patient_id\").agg(count()).show()"
   ]
  },
  {
   "cell_type": "code",
   "execution_count": null,
   "id": "f925406f-e6b3-42b7-87de-d79fe19f7391",
   "metadata": {},
   "outputs": [],
   "source": []
  },
  {
   "cell_type": "code",
   "execution_count": null,
   "id": "c6b8bf79-2151-4694-a2be-7a01d0cbdd60",
   "metadata": {},
   "outputs": [],
   "source": []
  },
  {
   "cell_type": "code",
   "execution_count": null,
   "id": "cc4ed735-91f0-4c27-9af4-3e8b887d4d57",
   "metadata": {},
   "outputs": [],
   "source": []
  },
  {
   "cell_type": "code",
   "execution_count": null,
   "id": "587bf797-215e-41f2-b4fd-2fef43706df5",
   "metadata": {},
   "outputs": [],
   "source": []
  },
  {
   "cell_type": "code",
   "execution_count": null,
   "id": "24e3fc42-70b6-4bda-8691-fb37ad38e605",
   "metadata": {},
   "outputs": [],
   "source": []
  },
  {
   "cell_type": "code",
   "execution_count": null,
   "id": "24072cf7-2e03-41c0-8fcc-96aeb35a6016",
   "metadata": {},
   "outputs": [],
   "source": []
  },
  {
   "cell_type": "code",
   "execution_count": null,
   "id": "83a2fa37-53df-45bb-8744-2d115393d1c9",
   "metadata": {},
   "outputs": [],
   "source": []
  }
 ],
 "metadata": {
  "kernelspec": {
   "display_name": "Python 3 (ipykernel)",
   "language": "python",
   "name": "python3"
  },
  "language_info": {
   "codemirror_mode": {
    "name": "ipython",
    "version": 3
   },
   "file_extension": ".py",
   "mimetype": "text/x-python",
   "name": "python",
   "nbconvert_exporter": "python",
   "pygments_lexer": "ipython3",
   "version": "3.11.6"
  }
 },
 "nbformat": 4,
 "nbformat_minor": 5
}
